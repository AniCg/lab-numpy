{
 "cells": [
  {
   "cell_type": "code",
   "execution_count": 1,
   "id": "advanced-archive",
   "metadata": {},
   "outputs": [],
   "source": [
    "import numpy as np"
   ]
  },
  {
   "cell_type": "code",
   "execution_count": 4,
   "id": "wicked-quantum",
   "metadata": {},
   "outputs": [],
   "source": [
    "a = np.random.randint(0, 100, (2,3,5))"
   ]
  },
  {
   "cell_type": "code",
   "execution_count": 5,
   "id": "governmental-broadcasting",
   "metadata": {},
   "outputs": [
    {
     "data": {
      "text/plain": [
       "array([[[12, 62, 30, 37, 48],\n",
       "        [93, 30, 35, 22,  7],\n",
       "        [71, 61, 81, 40, 31]],\n",
       "\n",
       "       [[41, 91, 77, 24, 84],\n",
       "        [25, 47, 83, 22, 94],\n",
       "        [35,  9, 62, 61,  0]]])"
      ]
     },
     "execution_count": 5,
     "metadata": {},
     "output_type": "execute_result"
    }
   ],
   "source": [
    "a"
   ]
  },
  {
   "cell_type": "code",
   "execution_count": 6,
   "id": "accessible-beads",
   "metadata": {},
   "outputs": [
    {
     "data": {
      "text/plain": [
       "array([[[-1.31877207,  1.71496496,  1.11399843,  0.22914626,\n",
       "          0.01789397],\n",
       "        [ 1.11001399, -1.33799324,  0.17027541, -0.13238126,\n",
       "         -0.23312585],\n",
       "        [ 1.07741781,  0.28753156, -0.72050167, -1.13476136,\n",
       "         -1.01667551]],\n",
       "\n",
       "       [[ 0.52751377,  0.95433745, -0.05272294, -0.34287484,\n",
       "         -0.50237236],\n",
       "        [-1.43009548,  1.06814713,  0.08702158,  1.14904814,\n",
       "         -0.06358157],\n",
       "        [ 0.68223349, -1.62734087, -1.03190057, -0.22314664,\n",
       "          0.27804792]]])"
      ]
     },
     "execution_count": 6,
     "metadata": {},
     "output_type": "execute_result"
    }
   ],
   "source": [
    "b = np.random.standard_normal((2,3,5))\n",
    "b"
   ]
  },
  {
   "cell_type": "code",
   "execution_count": 7,
   "id": "selective-drunk",
   "metadata": {},
   "outputs": [
    {
     "data": {
      "text/plain": [
       "array([[[0, 0, 0, 0, 0],\n",
       "        [0, 0, 0, 0, 0],\n",
       "        [0, 0, 0, 0, 0]],\n",
       "\n",
       "       [[0, 0, 0, 0, 0],\n",
       "        [0, 0, 0, 0, 0],\n",
       "        [0, 0, 0, 0, 0]]])"
      ]
     },
     "execution_count": 7,
     "metadata": {},
     "output_type": "execute_result"
    }
   ],
   "source": [
    "c = np.zeros((2,3,5), dtype=int)\n",
    "c"
   ]
  },
  {
   "cell_type": "code",
   "execution_count": 9,
   "id": "competent-happening",
   "metadata": {},
   "outputs": [
    {
     "data": {
      "text/plain": [
       "30"
      ]
     },
     "execution_count": 9,
     "metadata": {},
     "output_type": "execute_result"
    }
   ],
   "source": [
    "a.size\n"
   ]
  },
  {
   "cell_type": "code",
   "execution_count": 10,
   "id": "cloudy-chair",
   "metadata": {},
   "outputs": [
    {
     "data": {
      "text/plain": [
       "30"
      ]
     },
     "execution_count": 10,
     "metadata": {},
     "output_type": "execute_result"
    }
   ],
   "source": [
    "b.size"
   ]
  },
  {
   "cell_type": "code",
   "execution_count": null,
   "id": "quality-institution",
   "metadata": {},
   "outputs": [],
   "source": []
  }
 ],
 "metadata": {
  "kernelspec": {
   "display_name": "Python 3",
   "language": "python",
   "name": "python3"
  },
  "language_info": {
   "codemirror_mode": {
    "name": "ipython",
    "version": 3
   },
   "file_extension": ".py",
   "mimetype": "text/x-python",
   "name": "python",
   "nbconvert_exporter": "python",
   "pygments_lexer": "ipython3",
   "version": "3.8.5"
  }
 },
 "nbformat": 4,
 "nbformat_minor": 5
}
